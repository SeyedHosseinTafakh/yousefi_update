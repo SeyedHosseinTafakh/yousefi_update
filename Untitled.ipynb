{
 "cells": [
  {
   "cell_type": "code",
   "execution_count": 27,
   "metadata": {},
   "outputs": [],
   "source": [
    "\n",
    "import pandas as pd\n",
    "import requests\n",
    "from writers import *\n",
    "import pdfkit\n",
    "import numpy as np\n",
    "from PyPDF2 import PdfFileMerger\n"
   ]
  },
  {
   "cell_type": "code",
   "execution_count": 28,
   "metadata": {},
   "outputs": [],
   "source": [
    "\n",
    "gostare_id = '1'\n",
    "id_ghest = '1'\n",
    "URL = 'http://api.daricbot.ir/jaraem_taakhir_dar_bahre_bardariV2?gostare_id='+gostare_id+'&'+'id_ghest'+'='+id_ghest+'&date='+handle_month(id_ghest)\n",
    "data = requests.get(url = URL)\n",
    "data = data.json()\n",
    "del(gostare_id)\n",
    "del(URL)"
   ]
  },
  {
   "cell_type": "code",
   "execution_count": 29,
   "metadata": {},
   "outputs": [],
   "source": [
    "\n",
    "jadval_koli = data['jadval_koli']\n",
    "\n",
    "jadval_koli['vazne_kole_khat'] = enToFarsiPandas(str(jadval_koli['vazne_kole_khat']))\n",
    "jadval_koli['tarikh'] = enToFarsiPandas(str(jadval_koli['tarikh']))\n",
    "jadval_koli['darsad_tahaghogh_yafte'] = enToFarsiPandas(str(jadval_koli['darsad_tahaghogh_yafte']))\n",
    "jadval_koli['darsad_baghi_mande'] = enToFarsiPandas(str(jadval_koli['darsad_baghi_mande']))\n"
   ]
  },
  {
   "cell_type": "code",
   "execution_count": 30,
   "metadata": {},
   "outputs": [],
   "source": [
    "\n",
    "\n",
    "sum_jadval = data['an_ghozi']\n",
    "sum_jadval[1] = enToFarsiPandas(str(sum_jadval[1]))\n",
    "sum_jadval[2] = enToFarsiPandas(str(sum_jadval[2]))\n",
    "sum_jadval[3] = enToFarsiPandas(str(sum_jadval[3]))\n"
   ]
  },
  {
   "cell_type": "code",
   "execution_count": 31,
   "metadata": {},
   "outputs": [],
   "source": [
    "\n",
    "data_jadval = data['jarime']\n",
    "del(data)\n",
    "\n",
    "data_jadval = pd.DataFrame(data_jadval)\n",
    "del(data_jadval[6])\n",
    "\n",
    "labels = ['نام گستره :','وزن گستره از کل :','درصد تحقق یافته :','درصد باقی مانده :','تاریخ بهره برداری برنامه ریزی شده :']\n",
    "\n"
   ]
  },
  {
   "cell_type": "code",
   "execution_count": 32,
   "metadata": {},
   "outputs": [
    {
     "data": {
      "text/html": [
       "<div>\n",
       "<style scoped>\n",
       "    .dataframe tbody tr th:only-of-type {\n",
       "        vertical-align: middle;\n",
       "    }\n",
       "\n",
       "    .dataframe tbody tr th {\n",
       "        vertical-align: top;\n",
       "    }\n",
       "\n",
       "    .dataframe thead th {\n",
       "        text-align: right;\n",
       "    }\n",
       "</style>\n",
       "<table border=\"1\" class=\"dataframe\">\n",
       "  <thead>\n",
       "    <tr style=\"text-align: right;\">\n",
       "      <th></th>\n",
       "      <th>0</th>\n",
       "      <th>1</th>\n",
       "      <th>2</th>\n",
       "      <th>3</th>\n",
       "      <th>4</th>\n",
       "      <th>5</th>\n",
       "    </tr>\n",
       "  </thead>\n",
       "  <tbody>\n",
       "    <tr>\n",
       "      <th>0</th>\n",
       "      <td>بخش خط لوله</td>\n",
       "      <td>1196000.0</td>\n",
       "      <td>1396-07-17</td>\n",
       "      <td>14.95</td>\n",
       "      <td>1</td>\n",
       "      <td>0</td>\n",
       "    </tr>\n",
       "  </tbody>\n",
       "</table>\n",
       "</div>"
      ],
      "text/plain": [
       "             0          1           2      3  4  5\n",
       "0  بخش خط لوله  1196000.0  1396-07-17  14.95  1  0"
      ]
     },
     "execution_count": 32,
     "metadata": {},
     "output_type": "execute_result"
    }
   ],
   "source": [
    "data_jadval.head()\n"
   ]
  },
  {
   "cell_type": "code",
   "execution_count": 15,
   "metadata": {},
   "outputs": [
    {
     "name": "stdout",
     "output_type": "stream",
     "text": [
      "0    بخش خط لوله\n",
      "1      1.196e+06\n",
      "2     1396-07-17\n",
      "3          14.95\n",
      "4              1\n",
      "5              0\n",
      "Name: 0, dtype: object\n"
     ]
    }
   ],
   "source": [
    "for i , j in data_jadval.iterrows():\n",
    "    print(j)\n",
    "    "
   ]
  },
  {
   "cell_type": "code",
   "execution_count": 57,
   "metadata": {},
   "outputs": [
    {
     "name": "stdout",
     "output_type": "stream",
     "text": [
      "0    1196000.0\n",
      "Name: 1, dtype: float64\n"
     ]
    }
   ],
   "source": [
    "\n",
    "data_jadval[:][1] =  data_jadval[:][1].astype(str).apply(enToFarsiPandas)\n",
    "\n",
    "#print( enToFarsiPandas(str(data_jadval[:][1])))\n",
    "print(data_jadval[:][1])"
   ]
  },
  {
   "cell_type": "code",
   "execution_count": null,
   "metadata": {},
   "outputs": [],
   "source": []
  }
 ],
 "metadata": {
  "celltoolbar": "Attachments",
  "kernelspec": {
   "display_name": "Python 3",
   "language": "python",
   "name": "python3"
  }
 },
 "nbformat": 4,
 "nbformat_minor": 4
}
